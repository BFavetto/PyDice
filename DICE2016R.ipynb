{
 "cells": [
  {
   "cell_type": "markdown",
   "metadata": {},
   "source": [
    "This notebook implements the Dice2016R2 model in Python. It is based on :\n",
    "- The PyOmo library (http://www.pyomo.org/)\n",
    "- The ipopt solver (https://coin-or.github.io/Ipopt/)\n",
    "- A former implementation of Dice 2013 (https://github.com/moptimization/pythondice2013implementation)"
   ]
  },
  {
   "cell_type": "markdown",
   "metadata": {},
   "source": [
    "See the Gams code of the model on the Nordhaus' webpage : https://sites.google.com/site/williamdnordhaus/dice-rice"
   ]
  },
  {
   "cell_type": "code",
   "execution_count": 1,
   "metadata": {},
   "outputs": [],
   "source": [
    "import pandas as pd\n",
    "import numpy as np"
   ]
  },
  {
   "cell_type": "code",
   "execution_count": 2,
   "metadata": {},
   "outputs": [],
   "source": [
    "import pyomo.environ as pe\n",
    "import pyomo.opt as po"
   ]
  },
  {
   "cell_type": "code",
   "execution_count": 3,
   "metadata": {},
   "outputs": [],
   "source": [
    "import matplotlib.pyplot as plt"
   ]
  },
  {
   "cell_type": "markdown",
   "metadata": {},
   "source": [
    "## Parameters of the Dice model"
   ]
  },
  {
   "cell_type": "markdown",
   "metadata": {},
   "source": [
    "### Main parameters of the model are stored in the file Dice2016R2Parameters.csv"
   ]
  },
  {
   "cell_type": "code",
   "execution_count": 4,
   "metadata": {},
   "outputs": [],
   "source": [
    "paramDF = pd.read_csv('Dice2016R2Parameters.csv')\n",
    "params = dict(zip(paramDF.key,paramDF.value))"
   ]
  },
  {
   "cell_type": "code",
   "execution_count": 5,
   "metadata": {
    "scrolled": true
   },
   "outputs": [
    {
     "data": {
      "text/html": [
       "<div>\n",
       "<style scoped>\n",
       "    .dataframe tbody tr th:only-of-type {\n",
       "        vertical-align: middle;\n",
       "    }\n",
       "\n",
       "    .dataframe tbody tr th {\n",
       "        vertical-align: top;\n",
       "    }\n",
       "\n",
       "    .dataframe thead th {\n",
       "        text-align: right;\n",
       "    }\n",
       "</style>\n",
       "<table border=\"1\" class=\"dataframe\">\n",
       "  <thead>\n",
       "    <tr style=\"text-align: right;\">\n",
       "      <th></th>\n",
       "      <th>key</th>\n",
       "      <th>value</th>\n",
       "      <th>description</th>\n",
       "    </tr>\n",
       "  </thead>\n",
       "  <tbody>\n",
       "    <tr>\n",
       "      <th>0</th>\n",
       "      <td>numPeriods</td>\n",
       "      <td>100.00</td>\n",
       "      <td>The number of periods</td>\n",
       "    </tr>\n",
       "    <tr>\n",
       "      <th>1</th>\n",
       "      <td>fosslim</td>\n",
       "      <td>6000.00</td>\n",
       "      <td>Maximum cumulative extraction fossil fuels (GtC)</td>\n",
       "    </tr>\n",
       "    <tr>\n",
       "      <th>2</th>\n",
       "      <td>tstep</td>\n",
       "      <td>5.00</td>\n",
       "      <td>Years per period</td>\n",
       "    </tr>\n",
       "    <tr>\n",
       "      <th>3</th>\n",
       "      <td>ifopt</td>\n",
       "      <td>0.00</td>\n",
       "      <td>Indicator where optimized is 1 and base is 0</td>\n",
       "    </tr>\n",
       "    <tr>\n",
       "      <th>4</th>\n",
       "      <td>elasmu</td>\n",
       "      <td>1.45</td>\n",
       "      <td>Elasticity of marginal utility of consumption</td>\n",
       "    </tr>\n",
       "  </tbody>\n",
       "</table>\n",
       "</div>"
      ],
      "text/plain": [
       "          key    value                                       description\n",
       "0  numPeriods   100.00                             The number of periods\n",
       "1     fosslim  6000.00  Maximum cumulative extraction fossil fuels (GtC)\n",
       "2       tstep     5.00                                  Years per period\n",
       "3       ifopt     0.00      Indicator where optimized is 1 and base is 0\n",
       "4      elasmu     1.45     Elasticity of marginal utility of consumption"
      ]
     },
     "execution_count": 5,
     "metadata": {},
     "output_type": "execute_result"
    }
   ],
   "source": [
    "paramDF.head()"
   ]
  },
  {
   "cell_type": "markdown",
   "metadata": {},
   "source": [
    "### Further definitions of parameters"
   ]
  },
  {
   "cell_type": "markdown",
   "metadata": {},
   "source": [
    "Carbon cycle transition matrix"
   ]
  },
  {
   "cell_type": "code",
   "execution_count": 6,
   "metadata": {},
   "outputs": [],
   "source": [
    "params[\"b11\"] = 1 - params[\"b12\"]\n",
    "params[\"b21\"] = params[\"b12\"] * params[\"mateq\"] / params[\"mueq\"]\n",
    "params[\"b22\"] = 1 - params[\"b21\"] - params[\"b23\"]\n",
    "params[\"b32\"] = params[\"b23\"] * params[\"mueq\"] / params[\"mleq\"]\n",
    "params[\"b33\"] = 1 - params[\"b32\"]"
   ]
  },
  {
   "cell_type": "code",
   "execution_count": 7,
   "metadata": {},
   "outputs": [],
   "source": [
    "params[\"a20\"] = params[\"a2\"] # to store the damage parameter for different scenarios"
   ]
  },
  {
   "cell_type": "code",
   "execution_count": 8,
   "metadata": {},
   "outputs": [],
   "source": [
    "params[\"sig0\"] = params[\"e0\"] /  (params[\"q0\"] * (1 - params[\"miu0\"])) # Carbon intensity in 2010\n",
    "params[\"lam\"] = params[\"fco22x\"] / params[\"t2xco2\"]     # Climate model parameter\n",
    "params[\"optlrsav\"] = (params[\"dk\"] + 0.004) / (params[\"dk\"] + 0.004 * params[\"elasmu\"] + params[\"prstp\"]) * params[\"gama\"]   # Optimal long-run savings rate used for transversality"
   ]
  },
  {
   "cell_type": "markdown",
   "metadata": {},
   "source": [
    "Initial value for cumulative carbon emissions"
   ]
  },
  {
   "cell_type": "code",
   "execution_count": 9,
   "metadata": {},
   "outputs": [],
   "source": [
    "params[\"cca0\"] = 400.0"
   ]
  },
  {
   "cell_type": "code",
   "execution_count": 10,
   "metadata": {},
   "outputs": [],
   "source": [
    "params[\"numPeriods\"] = int(params[\"numPeriods\"]) # to have the right type"
   ]
  },
  {
   "cell_type": "markdown",
   "metadata": {},
   "source": [
    "## Time-dependent parameters and exogenous variables (Python dictionaries)"
   ]
  },
  {
   "cell_type": "markdown",
   "metadata": {},
   "source": [
    "### Trajectories of exogenous variables"
   ]
  },
  {
   "cell_type": "markdown",
   "metadata": {},
   "source": [
    "Computation of the trajectory of population"
   ]
  },
  {
   "cell_type": "code",
   "execution_count": 11,
   "metadata": {},
   "outputs": [],
   "source": [
    "def getPopulation(maxPeriods,pop0,popasym,popadj):\n",
    "    \"\"\"\n",
    "    Projected population (l)\n",
    "    \n",
    "    pop0 : initial population (in millions)\n",
    "    popasym : asymptotic population (in millions)\n",
    "    popadj : growth rate to calibrate to 2050 pop projection\n",
    "    \n",
    "    Gams code : loop(t, l(t+1)=l(t)*(popasym/L(t))**popadj ;);\n",
    "    \"\"\"\n",
    "    population = {}\n",
    "    population[1] = pop0\n",
    "\n",
    "    for t in range(2,maxPeriods +1):\n",
    "        population[t] = population[t-1]*(popasym/population[t-1])**popadj\n",
    "\n",
    "    return population"
   ]
  },
  {
   "cell_type": "markdown",
   "metadata": {},
   "source": [
    "Computation of the growth rate of productivity"
   ]
  },
  {
   "cell_type": "code",
   "execution_count": 12,
   "metadata": {},
   "outputs": [],
   "source": [
    "def getGrowthRateOfProductivity(ga0,dela,numPeriods,tstep):\n",
    "    \"\"\"\n",
    "    Growth rate of productivity (ga)\n",
    "    \n",
    "    ga0 : initial growth rate for TFP per period\n",
    "    dela : decline rate of TFP per period\n",
    "    tstep : duration of a period ( = 5 years)\n",
    "    \n",
    "    Gams code : ga(t)=ga0*exp(-dela*5*((t.val-1)));\n",
    "    \"\"\"\n",
    "    productivityGR = {} \n",
    "\n",
    "    for t in range(numPeriods):\n",
    "        productivityGR[t+1] = ga0 * np.exp(-dela*tstep*t)\n",
    "\n",
    "    return productivityGR"
   ]
  },
  {
   "cell_type": "markdown",
   "metadata": {},
   "source": [
    "Computation of the level of total factor productivity"
   ]
  },
  {
   "cell_type": "code",
   "execution_count": 13,
   "metadata": {},
   "outputs": [],
   "source": [
    "def getLevelOfProductivity(a0,ga,numPeriods):\n",
    "    \"\"\"\n",
    "    Level of total factor productivity (al)\n",
    "\n",
    "    a0 : initial level of TFP\n",
    "    ga : growth rate of productivity\n",
    "\n",
    "    Gams code : loop(t, al(t+1)=al(t)/((1-ga(t))););\n",
    "    \"\"\"\n",
    "    productivity = {}\n",
    "    productivity[1] = a0\n",
    "    \n",
    "    for t in range(2,numPeriods +1):\n",
    "        productivity[t] = productivity[t-1]/(1-ga[t-1])\n",
    "    \n",
    "    return productivity"
   ]
  },
  {
   "cell_type": "markdown",
   "metadata": {},
   "source": [
    "Computation of the cumulative efficiency improvement"
   ]
  },
  {
   "cell_type": "code",
   "execution_count": 14,
   "metadata": {},
   "outputs": [],
   "source": [
    "def getCumulativeEfficiencyImprovement(gsigma1,dsig,tstep,numPeriods):\n",
    "    \"\"\"\n",
    "    Change in sigma (cumulative improvement of energy efficiency)\n",
    "    gsigma1 : initial growth of sigma (per year)\n",
    "    dsig : decline rate of decarbonization (per period)\n",
    "    tstep : duration of a period (= 5 years)\n",
    "    \n",
    "    Gams code : loop(t,gsig(t+1)=gsig(t)*((1+dsig)**tstep) ;);\n",
    "    \"\"\"\n",
    "    efficiency = {}\n",
    "    efficiency[1] = gsigma1\n",
    "    for t in range(2,numPeriods +1):\n",
    "        efficiency[t] = efficiency[t-1]*((1+dsig)**tstep)\n",
    "    \n",
    "    return efficiency"
   ]
  },
  {
   "cell_type": "markdown",
   "metadata": {},
   "source": [
    "Computation of the output ratio of C02 equivalent emissions"
   ]
  },
  {
   "cell_type": "code",
   "execution_count": 15,
   "metadata": {},
   "outputs": [],
   "source": [
    "def getGrowthRate(sig0,gsig,tstep,numPeriods):\n",
    "    \"\"\"\n",
    "    CO2-equivalent-emissions output ratio (sigma)\n",
    "    \n",
    "    sig0 : Carbon intensity 2010\n",
    "    gsig : cumulative improvement of energy efficiency (change in sigma)\n",
    "    tstep : duration of a period (= 5 years)\n",
    "    \n",
    "    Gams code :  loop(t,sigma(t+1)=(sigma(t)*exp(gsig(t)*tstep)););\n",
    "    \"\"\"\n",
    "    growthRate = {}\n",
    "    growthRate[1] = sig0\n",
    "    \n",
    "    for t in range(2,numPeriods +1):\n",
    "        growthRate[t] = growthRate[t-1]*np.exp(gsig[t-1]*tstep)\n",
    "        \n",
    "    return growthRate"
   ]
  },
  {
   "cell_type": "markdown",
   "metadata": {},
   "source": [
    "Computation of backstop price"
   ]
  },
  {
   "cell_type": "code",
   "execution_count": 16,
   "metadata": {},
   "outputs": [],
   "source": [
    "def getBackstopPrice(pback,gback,numPeriods):\n",
    "    \"\"\"\n",
    "    Backstop price (pbacktime)\n",
    "    \n",
    "    pback : cost of backstop 2010$ per tC02\n",
    "    gback : initial cost decline backstop cost per period\n",
    "    \n",
    "    Gams code : pbacktime(t)=pback*(1-gback)**(t.val-1);\n",
    "    \"\"\"\n",
    "    backstopPrice = {}\n",
    "\n",
    "    for t in range(numPeriods):\n",
    "        backstopPrice[t+1] = pback*(1-gback)**t\n",
    "\n",
    "    return backstopPrice"
   ]
  },
  {
   "cell_type": "markdown",
   "metadata": {},
   "source": [
    "Computation of adjusted cost for backstop"
   ]
  },
  {
   "cell_type": "code",
   "execution_count": 17,
   "metadata": {},
   "outputs": [],
   "source": [
    "def getAdjustedCostForBackstop(pbacktime,sigma,expcost2,numPeriods):\n",
    "    \"\"\"\n",
    "    Adjusted cost for backstop (cost1)\n",
    "    \n",
    "    pbacktime : backstop price\n",
    "    sigma : GHG output ratio\n",
    "    expcost2 : exponent of control cost function\n",
    "    \n",
    "    Gams code : cost1(t) = pbacktime(t)*sigma(t)/expcost2/1000;\n",
    "    \"\"\"\n",
    "    adjCost = {}\n",
    "    \n",
    "    for t in range(1,numPeriods +1):\n",
    "        adjCost[t] = pbacktime[t] * sigma[t] / expcost2 / 1000\n",
    "    \n",
    "    return adjCost"
   ]
  },
  {
   "cell_type": "markdown",
   "metadata": {},
   "source": [
    "Computation of emissions from deforestation"
   ]
  },
  {
   "cell_type": "code",
   "execution_count": 18,
   "metadata": {},
   "outputs": [],
   "source": [
    "def getEmissionsFromDeforestation(eland0,deland,numPeriods):\n",
    "    \"\"\"\n",
    "    Emissions from deforestation (etree)\n",
    "    \n",
    "    eland0 : Carbon emissions from land 2015\n",
    "    deland : decline rate of land emissions per period\n",
    "    \n",
    "    Gams code : etree(t) = eland0*(1-deland)**(t.val-1);\n",
    "    \"\"\"\n",
    "    emissions = {}\n",
    "    \n",
    "    for t in range(1,numPeriods +1):\n",
    "        emissions[t] = eland0 * (1 - deland)**(t-1)\n",
    "    \n",
    "    return emissions"
   ]
  },
  {
   "cell_type": "markdown",
   "metadata": {},
   "source": [
    "Computation of cumulative emissions from land"
   ]
  },
  {
   "cell_type": "code",
   "execution_count": 19,
   "metadata": {},
   "outputs": [],
   "source": [
    "def getCumulativeEmissionsFromLand(etree,numPeriods):\n",
    "    \"\"\"\n",
    "    Cumulative from land (cumetree)\n",
    "    \n",
    "    etree : emissions from deforestation\n",
    "    \n",
    "    Gams code : loop(t,cumetree(t+1)=cumetree(t)+etree(t)*(5/3.666);)\n",
    "    \"\"\"\n",
    "    cumulatem = {}\n",
    "    cumulatem[1] = 100.0 \n",
    "    \n",
    "    for t in range(2,numPeriods +1) :\n",
    "        cumulatem[t] = cumulatem[t-1] + etree[t-1]*(5/3.666)\n",
    "    \n",
    "    return cumulatem"
   ]
  },
  {
   "cell_type": "markdown",
   "metadata": {},
   "source": [
    "Computation of average utility social discount rate"
   ]
  },
  {
   "cell_type": "code",
   "execution_count": 20,
   "metadata": {},
   "outputs": [],
   "source": [
    "def getAverageUtilitySocialDiscountRate(prstp,tstep,numPeriods):\n",
    "    \"\"\"\n",
    "    Average utility social discount rate (rr)\n",
    "    \n",
    "    prstp : Initial rate of social time preference per year\n",
    "    tstep : duration of a period\n",
    "    \n",
    "    Gams code : rr(t) = 1/((1+prstp)**(tstep*(t.val-1)));\n",
    "    \"\"\"\n",
    "    utilDisc = {}\n",
    "    \n",
    "    for t in range(1,numPeriods +1):\n",
    "        utilDisc[t] = 1./((1+prstp)**(tstep*(t-1)))\n",
    "    \n",
    "    return utilDisc"
   ]
  },
  {
   "cell_type": "markdown",
   "metadata": {},
   "source": [
    "Computation of Exogenous forcing for other greenhouse gases (with interpolation between 2015 and 2100)"
   ]
  },
  {
   "cell_type": "code",
   "execution_count": 21,
   "metadata": {},
   "outputs": [],
   "source": [
    "def getExogenousForcingOfOtherGreenhouseGases(fex0,fex1,numPeriods):\n",
    "    \"\"\"\n",
    "    Exogenous forcing for other greenhouse gases (forcoth)\n",
    "    \n",
    "    fex0 : 2015 forcings of non CO2 GHG\n",
    "    fex1 : 2100 forcings of non CO2 GHG\n",
    "    \n",
    "    Gams code : forcoth(t) = fex0+ (1/17)*(fex1-fex0)*(t.val-1)$(t.val lt 18)+ (fex1-fex0)$(t.val ge 18);\n",
    "    \"\"\"\n",
    "    exogForcing = {}\n",
    "    \n",
    "    for t in range(1,numPeriods +1):\n",
    "        if t < 18:\n",
    "            exogForcing[t] = fex0 + (1./17.)*(fex1-fex0)*(t-1)\n",
    "        else:\n",
    "            exogForcing[t] = fex1\n",
    "            \n",
    "    return exogForcing"
   ]
  },
  {
   "cell_type": "markdown",
   "metadata": {},
   "source": [
    "Computation of carbon price in base case"
   ]
  },
  {
   "cell_type": "code",
   "execution_count": 22,
   "metadata": {},
   "outputs": [],
   "source": [
    "def getCarbonPrice(cprice0,gcprice,tstep,numPeriods):\n",
    "    \"\"\"\n",
    "    Base Case Carbon Price (cpricebase)\n",
    "    \n",
    "    cprice0 : initial base carbon price\n",
    "    gcprice : growth rate of base carbon price per year\n",
    "    tstep : duration of a period\n",
    "    \n",
    "    Gams code : cpricebase(t)= cprice0*(1+gcprice)**(5*(t.val-1));\n",
    "    \"\"\"\n",
    "    carbonPrice = {}\n",
    "    \n",
    "    for t in range(1,int(numPeriods)+1):\n",
    "        carbonPrice[t] = cprice0*(1+gcprice)**(tstep*(t-1))\n",
    "\n",
    "    return carbonPrice"
   ]
  },
  {
   "cell_type": "code",
   "execution_count": 23,
   "metadata": {},
   "outputs": [],
   "source": [
    "# computation of the exogenous variables\n",
    "\n",
    "params['l'] = getPopulation(params['numPeriods'],params['pop0'],params['popasym'],params['popadj']) \n",
    "\n",
    "params['ga'] = getGrowthRateOfProductivity(params['ga0'],params['dela'],params['numPeriods'],params['tstep'])\n",
    "\n",
    "params['al'] = getLevelOfProductivity(params['a0'],params['ga'],params['numPeriods'])\n",
    "\n",
    "params['gsig'] = getCumulativeEfficiencyImprovement(params['gsigma1'],params['dsig'],params['tstep'],params['numPeriods'])\n",
    "\n",
    "params['sigma'] = getGrowthRate(params['sig0'],params['gsig'],params['tstep'],params['numPeriods'])\n",
    "\n",
    "params['pbacktime'] = getBackstopPrice(params['pback'],params['gback'],params['numPeriods'])\n",
    "\n",
    "params['cost1'] = getAdjustedCostForBackstop(params['pbacktime'],params['sigma'],params['expcost2'],params['numPeriods'])\n",
    "\n",
    "params['etree'] = getEmissionsFromDeforestation(params['eland0'],params['deland'],params['numPeriods'])\n",
    "\n",
    "params['cumetree'] = getCumulativeEmissionsFromLand(params['etree'], params['numPeriods'])\n",
    "\n",
    "params['rr'] = getAverageUtilitySocialDiscountRate(params['prstp'],params['tstep'],params['numPeriods'])\n",
    "\n",
    "params['forcoth'] = getExogenousForcingOfOtherGreenhouseGases(params['fex0'],params['fex1'],params['numPeriods'])\n",
    "\n",
    "params['cpricebase'] = getCarbonPrice(params['cprice0'],params['gcprice'],params['tstep'],params['numPeriods'])\n"
   ]
  },
  {
   "cell_type": "code",
   "execution_count": 24,
   "metadata": {},
   "outputs": [],
   "source": [
    "# photel(t)     Carbon Price under no damages (Hotelling rent condition)"
   ]
  },
  {
   "cell_type": "markdown",
   "metadata": {},
   "source": [
    "Indicator where optimized is 1 and base is 0."
   ]
  },
  {
   "cell_type": "code",
   "execution_count": 25,
   "metadata": {
    "scrolled": false
   },
   "outputs": [
    {
     "data": {
      "text/plain": [
       "0.0"
      ]
     },
     "execution_count": 25,
     "metadata": {},
     "output_type": "execute_result"
    }
   ],
   "source": [
    "params[\"ifopt\"]"
   ]
  },
  {
   "cell_type": "markdown",
   "metadata": {},
   "source": [
    "### All the parameters are now set up."
   ]
  },
  {
   "cell_type": "markdown",
   "metadata": {},
   "source": [
    "## Definition of an instance of the model"
   ]
  },
  {
   "cell_type": "code",
   "execution_count": 26,
   "metadata": {},
   "outputs": [],
   "source": [
    "def diceModel2016(**kwargs):\n",
    "    \n",
    "    model = pe.ConcreteModel(\"Dice2016R\") # Dice2016 is a PyOmo concrete model\n",
    "    \n",
    "    ###SETS AND INDICES###\n",
    "    model.time_periods = pe.Set( initialize=kwargs['rr'].keys()) # t = 1 .. numPeriods\n",
    "    \n",
    "    ###VARIABLES### \n",
    "    \n",
    "    ## Boundaries\n",
    "    \n",
    "    # Control rate limit\n",
    "    def miuBounds(model,t):\n",
    "        if (t == 1) and (kwargs['ifopt'] == 1):    # if optimal control on emissions\n",
    "            return (kwargs['miu0'],kwargs['miu0']) # initial value\n",
    "        elif t < 30:\n",
    "            return (0.,1.)\n",
    "        else:\n",
    "            return (0.,kwargs['limmiu']) # upper limit on control rate after 2150\n",
    "\n",
    "        \n",
    "    # upper and lower bounds for stability    \n",
    "    def tatmBounds(model,t):\n",
    "        if t == 1: \n",
    "            return (kwargs['tatm0'],kwargs['tatm0'])  # initial value\n",
    "        else:\n",
    "            return (0.,20.)  # range for increase temperature in atmosphere\n",
    "\n",
    "    def toceanBounds(model,t):\n",
    "        if t == 1: \n",
    "            return (kwargs['tocean0'],kwargs['tocean0']) # initial value\n",
    "        else:\n",
    "            return (-1.,20.) # range for increase temperature in oceans\n",
    "\n",
    "    def matBounds(model,t):\n",
    "        if t == 1: \n",
    "            return (kwargs['mat0'],kwargs['mat0']) # initial value\n",
    "        else:\n",
    "            return (10.,np.inf) # range for carbon concentration increase in atmosphere\n",
    "\n",
    "    def muBounds(model,t):\n",
    "        if t == 1: \n",
    "            return (kwargs['mu0'],kwargs['mu0']) # initial value\n",
    "        else:\n",
    "            return (100.,np.inf) # range for carbon concentration increase in shallow oceans\n",
    "\n",
    "    def mlBounds(model,t):\n",
    "        if t == 1: \n",
    "            return (kwargs['ml0'],kwargs['ml0'])  # initial value\n",
    "        else:\n",
    "            return (1000.,np.inf) # range for carbon concentration in lower oceans\n",
    "\n",
    "    def cBounds(model,t):\n",
    "        return (2.,np.inf) # lower bound for consumption\n",
    "\n",
    "    def kBounds(model,t):\n",
    "        if t == 1: \n",
    "            return (kwargs['k0'],kwargs['k0']) # initial value\n",
    "        else:\n",
    "            return (1.,np.inf) # lower bound for capital stock\n",
    "\n",
    "    def cpcBounds(model,t):\n",
    "        return (.01,np.inf) # lower bound for per capita consumption\n",
    "\n",
    "    # control variable\n",
    "    def sBounds(model,t):\n",
    "        if t <= kwargs['numPeriods'] - 10:\n",
    "            return (-np.inf,np.inf)\n",
    "        else:\n",
    "            return (kwargs['optlrsav'],kwargs['optlrsav']) # constraint saving rate at the end \n",
    "\n",
    "    # Ressource limit\n",
    "    def ccaBounds(model,t):\n",
    "        if t == 1:\n",
    "            return (kwargs['cca0'],kwargs['cca0']) # initial value\n",
    "        else:\n",
    "            return (-np.inf,kwargs['fosslim']) # maximum cumulative extraction fossil fuels\n",
    "\n",
    "    ## Declarations    \n",
    "        \n",
    "    #Emission control rate GHGs    \n",
    "    model.MIU = pe.Var(model.time_periods,domain=pe.NonNegativeReals,bounds=miuBounds) \n",
    "    \n",
    "    # Increase in radiative forcing (watts per m2 from 1900)\n",
    "    model.FORC = pe.Var(model.time_periods,domain=pe.Reals) \n",
    "    \n",
    "    # Increase temperature of atmosphere (degrees C from 1900)\n",
    "    model.TATM = pe.Var(model.time_periods,domain=pe.NonNegativeReals,bounds=tatmBounds) \n",
    "    \n",
    "    # Increase temperatureof lower oceans (degrees C from 1900)\n",
    "    model.TOCEAN = pe.Var(model.time_periods,domain=pe.Reals,bounds=toceanBounds) \n",
    "\n",
    "    # Carbon concentration increase in atmosphere (GtC from 1750)\n",
    "    model.MAT = pe.Var(model.time_periods,domain=pe.NonNegativeReals,bounds=matBounds) \n",
    "\n",
    "    # Carbon concentration increase in shallow oceans (GtC from 1750)\n",
    "    model.MU = pe.Var(model.time_periods,domain=pe.NonNegativeReals,bounds=muBounds) \n",
    "\n",
    "    # Carbon concentration increase in lower oceans (GtC from 1750)\n",
    "    model.ML = pe.Var(model.time_periods,domain=pe.NonNegativeReals,bounds=mlBounds) \n",
    "\n",
    "    # Total CO2 emissions (GtCO2 per year)\n",
    "    model.E = pe.Var(model.time_periods,domain=pe.Reals) \n",
    "    \n",
    "    #Industrial emissions (GtCO2 per year)\n",
    "    model.EIND = pe.Var(model.time_periods,domain=pe.Reals) \n",
    "\n",
    "    # Consumption (trillions 2005 US dollars per year)\n",
    "    model.C = pe.Var(model.time_periods,domain=pe.NonNegativeReals,bounds=cBounds) \n",
    "\n",
    "    # Capital stock (trillions 2005 US dollars)\n",
    "    model.K = pe.Var(model.time_periods,domain=pe.NonNegativeReals,bounds=kBounds) \n",
    "\n",
    "    # Per capita consumption (thousands 2005 USD per year)\n",
    "    model.CPC = pe.Var(model.time_periods,domain=pe.NonNegativeReals,bounds=cpcBounds) \n",
    "\n",
    "    # Investment (trillions 2005 USD per year)\n",
    "    model.I = pe.Var(model.time_periods,domain=pe.NonNegativeReals) \n",
    "\n",
    "    # Gross savings rate as fraction of gross world product\n",
    "    model.S = pe.Var(model.time_periods,domain=pe.Reals,bounds=sBounds) \n",
    "\n",
    "    # Real interest rate (per annum)\n",
    "    model.RI = pe.Var(model.time_periods,domain=pe.Reals) \n",
    "\n",
    "    # Gross world product net of abatement and damages (trillions 2005 USD per year)\n",
    "    model.Y = pe.Var(model.time_periods,domain=pe.NonNegativeReals) \n",
    "\n",
    "    # Gross world product GROSS of abatement and damages (trillions 2005 USD per year)\n",
    "    model.YGROSS = pe.Var(model.time_periods,domain=pe.NonNegativeReals) \n",
    "\n",
    "    # Output net of damages equation (trillions 2005 USD per year)\n",
    "    model.YNET = pe.Var(model.time_periods,domain=pe.Reals) \n",
    "\n",
    "    # Damages (trillions 2005 USD per year)\n",
    "    model.DAMAGES = pe.Var(model.time_periods,domain=pe.Reals) \n",
    "\n",
    "    # Damages as fraction of gross output\n",
    "    model.DAMFRAC = pe.Var(model.time_periods,domain=pe.Reals) \n",
    "\n",
    "    # Cost of emissions reductions  (trillions 2005 USD per year)\n",
    "    model.ABATECOST = pe.Var(model.time_periods,domain=pe.Reals) \n",
    "\n",
    "    # Marginal cost of abatement (2005$ per ton CO2)\n",
    "    model.MCABATE = pe.Var(model.time_periods,domain=pe.Reals) \n",
    "\n",
    "    # Cumulative industrial carbon emissions (GTC)\n",
    "    model.CCA = pe.Var(model.time_periods,domain=pe.Reals,bounds=ccaBounds) \n",
    "    \n",
    "    # Total carbon emissions (GtC)\n",
    "    model.CCATOT = pe.Var(model.time_periods,domain=pe.Reals)\n",
    "\n",
    "    # One period utility function\n",
    "    model.PERIODU = pe.Var(model.time_periods,domain=pe.Reals) \n",
    "\n",
    "    # Carbon price (2005$ per ton of CO2) !!! No initial upper bound in version 2016R\n",
    "    model.CPRICE = pe.Var(model.time_periods,domain=pe.Reals) \n",
    "\n",
    "    # Period utility\n",
    "    model.CEMUTOTPER = pe.Var(model.time_periods,domain=pe.Reals) \n",
    "\n",
    "    # Welfare function\n",
    "    model.UTILITY = pe.Var(domain=pe.Reals) \n",
    "\n",
    "    ### Equations\n",
    "    \n",
    "    ## Emissions and damages\n",
    "\n",
    "    # eeq(t)\n",
    "    def emissionsEquation(model,t):\n",
    "        return (model.E[t] == model.EIND[t] + kwargs['etree'][t])\n",
    "    \n",
    "    model.emissionsEquation = pe.Constraint(model.time_periods,rule=emissionsEquation)\n",
    "\n",
    "    # eindeq(t)\n",
    "    def industrialEmissions(model,t): \n",
    "        # EIND(t) =E= sigma(t) * YGROSS(t) * (1-(MIU(t)));\n",
    "        return (model.EIND[t] == kwargs['sigma'][t] * model.YGROSS[t] * (1 - model.MIU[t]))\n",
    "\n",
    "    model.industrialEmissions = pe.Constraint(model.time_periods,rule=industrialEmissions)\n",
    "\n",
    "    # ccacca(t+1)\n",
    "    def cumCarbonEmissions(model,t):\n",
    "        if t == 1:\n",
    "            return pe.Constraint.Skip # to use boundary value instead of  constraint\n",
    "        else:\n",
    "            return (model.CCA[t] == model.CCA[t-1] + model.EIND[t-1] * kwargs['tstep'] / 3.666)\n",
    "\n",
    "    model.cumCarbonEmissions = pe.Constraint(model.time_periods,rule=cumCarbonEmissions)\n",
    "\n",
    "    # ccatoteq(t)\n",
    "    def totCarbonEmissions(model,t):\n",
    "        return (model.CCATOT[t] == model.CCA[t] + kwargs['cumetree'][t])\n",
    "    \n",
    "    model.totCarbonEmissions = pe.Constraint(model.time_periods,rule=totCarbonEmissions)\n",
    "    \n",
    "    # force(t)\n",
    "    def radiativeForcing(model,t): \n",
    "        return (model.FORC[t] == kwargs['fco22x'] * (pe.log10(model.MAT[t]/588.0)/pe.log10(2)) + kwargs['forcoth'][t])\n",
    "\n",
    "    model.radiativeForcing = pe.Constraint(model.time_periods,rule=radiativeForcing)\n",
    "\n",
    "    # damfraceq(t)\n",
    "    def damageFraction(model,t):\n",
    "        return (model.DAMFRAC[t] == (kwargs['a1'] * model.TATM[t]) + (kwargs['a2'] * model.TATM[t]**kwargs['a3']))\n",
    "\n",
    "    model.damageFraction = pe.Constraint(model.time_periods,rule=damageFraction)\n",
    "\n",
    "    # dameq(t)\n",
    "    def damagesConst(model,t):\n",
    "        return (model.DAMAGES[t] == (model.YGROSS[t] * model.DAMFRAC[t]))\n",
    "\n",
    "    model.damagesConst = pe.Constraint(model.time_periods,rule=damagesConst)\n",
    "\n",
    "    # abateeq(t)\n",
    "    def abatementCost(model,t):\n",
    "        return (model.ABATECOST[t] == model.YGROSS[t] * kwargs['cost1'][t] * (model.MIU[t]**kwargs['expcost2']))\n",
    "\n",
    "    model.abatementCost = pe.Constraint(model.time_periods,rule=abatementCost)\n",
    "\n",
    "    # mcabateeq(t)\n",
    "    def mcAbatement(model,t): \n",
    "  \n",
    "        myExp = kwargs['expcost2'] - 1\n",
    "        return (model.MCABATE[t] == kwargs['pbacktime'][t] * (model.MIU[t])**myExp)\n",
    "          \n",
    "    model.mcAbatement = pe.Constraint(model.time_periods,rule=mcAbatement)\n",
    "\n",
    "    # carbpriceeq(t)            \n",
    "    def carbonPriceEq(model,t): \n",
    "        myExp = kwargs['expcost2'] - 1\n",
    "        return (model.CPRICE[t] == kwargs['pbacktime'][t] * (model.MIU[t])**myExp)\n",
    "\n",
    "    model.carbonPriceEq = pe.Constraint(model.time_periods,rule=carbonPriceEq)\n",
    "\n",
    "    ## Climate and carbon cycle\n",
    "                \n",
    "    # mmat(t+1)\n",
    "    def atmosphericConcentration(model,t):\n",
    "        if t == 1:\n",
    "            return pe.Constraint.Skip\n",
    "        else: \n",
    "            #MAT(t+1)       =E= MAT(t)*b11 + MU(t)*b21 + (E(t)*(tstep/3.666));\n",
    "            return (model.MAT[t] == model.MAT[t-1]*kwargs['b11'] + model.MU[t-1] * kwargs['b21'] + model.E[t-1] * kwargs['tstep'] / 3.666)\n",
    "\n",
    "    model.atmosphericConcentration = pe.Constraint(model.time_periods,rule=atmosphericConcentration)\n",
    "\n",
    "    # mml(t+1)            \n",
    "    def lowerOceanConcentration(model,t):\n",
    "        if t == 1:\n",
    "            return pe.Constraint.Skip\n",
    "        else:\n",
    "            return (model.ML[t] == model.ML[t-1]*kwargs['b33'] + model.MU[t-1] * kwargs['b23'] )\n",
    "\n",
    "    model.lowerOceanConcentration = pe.Constraint(model.time_periods,rule=lowerOceanConcentration)\n",
    "\n",
    "    # mmu(t+1)\n",
    "    def upperOceanConcentration(model,t):\n",
    "        if t == 1:\n",
    "            return pe.Constraint.Skip\n",
    "        else:\n",
    "            return (model.MU[t] == model.ML[t-1]*kwargs['b32'] + model.MU[t-1] * kwargs['b22'] + model.MAT[t-1] * kwargs['b12'])\n",
    "\n",
    "    model.upperOceanConcentration = pe.Constraint(model.time_periods,rule=upperOceanConcentration)\n",
    "\n",
    "    # tatmeq(t+1)\n",
    "    def atmosphericTemperature(model,t):\n",
    "        if t == 1:\n",
    "            return pe.Constraint.Skip\n",
    "        else: \n",
    "            return (model.TATM[t] == model.TATM[t-1] + kwargs['c1'] * ((model.FORC[t] - (kwargs['fco22x']/kwargs['t2xco2'])*model.TATM[t-1]) \\\n",
    "                                                                       - (kwargs['c3'] * (model.TATM[t-1] - model.TOCEAN[t-1]))))\n",
    "\n",
    "    model.atmosphericTemperature = pe.Constraint(model.time_periods,rule=atmosphericTemperature)\n",
    "\n",
    "    # toceaneq(t+1)            \n",
    "    def oceanTemperature(model,t):\n",
    "        if t == 1:\n",
    "            return pe.Constraint.Skip\n",
    "        else:\n",
    "            return (model.TOCEAN[t] == model.TOCEAN[t-1] + kwargs['c4'] * (model.TATM[t-1] - model.TOCEAN[t-1]))\n",
    "\n",
    "    model.oceanTemperature = pe.Constraint(model.time_periods,rule=oceanTemperature)\n",
    "\n",
    "    ## Economic variables            \n",
    "    \n",
    "    # ygrosseq(t)\n",
    "    def grossOutput(model,t):\n",
    "        # YGROSS(t) =E= (al(t)*(L(t)/1000)**(1-GAMA))*(K(t)**GAMA);\n",
    "        coeff = kwargs['al'][t]*(kwargs['l'][t]/1000)**(1-kwargs['gama'])\n",
    "        return (model.YGROSS[t] == coeff*(model.K[t]**kwargs['gama']))\n",
    "\n",
    "    model.grossOutput = pe.Constraint(model.time_periods,rule=grossOutput)\n",
    "\n",
    "    # yneteq(t)\n",
    "    def netOutput(model,t):\n",
    "        return (model.YNET[t] == model.YGROSS[t] * (1-model.DAMFRAC[t]))\n",
    "\n",
    "    model.netOutput = pe.Constraint(model.time_periods,rule=netOutput)\n",
    "\n",
    "    # yy(t)\n",
    "    def outputNetEqn(model,t):\n",
    "        return (model.Y[t] == model.YNET[t] - model.ABATECOST[t])\n",
    "\n",
    "    model.outputNetEqn = pe.Constraint(model.time_periods,rule=outputNetEqn)\n",
    "\n",
    "    # cc(t)\n",
    "    def consumptionEqn(model,t):\n",
    "        return (model.C[t] == model.Y[t] - model.I[t])\n",
    "\n",
    "    model.consumptionEqn = pe.Constraint(model.time_periods,rule=consumptionEqn)\n",
    "\n",
    "\n",
    "    # cpce(t)\n",
    "    def perCapitaConsumption(model,t):\n",
    "        return (model.CPC[t] == 1000 * model.C[t] / kwargs['l'][t])\n",
    "                \n",
    "    model.perCapitaConsumption = pe.Constraint(model.time_periods,rule=perCapitaConsumption)\n",
    "\n",
    "    # seq(t)\n",
    "    def savingsRate(model,t):\n",
    "        return (model.I[t] ==  model.S[t] * model.Y[t])\n",
    "                \n",
    "    model.savingsRate = pe.Constraint(model.time_periods,rule=savingsRate)\n",
    "\n",
    "    # kk(t+1)\n",
    "    def capitalBalance(model,t):\n",
    "        if t == 1:\n",
    "            return pe.Constraint.Skip # initial value defined by the boundary\n",
    "        else: \n",
    "            #K(t+1)   =L= (1-dk)**tstep * K(t) + tstep * I(t);\n",
    "            return (model.K[t] == (1 - kwargs['dk'])**kwargs['tstep'] * model.K[t-1] + kwargs['tstep'] * model.I[t-1])\n",
    "\n",
    "    model.capitalBalance = pe.Constraint(model.time_periods,rule=capitalBalance)\n",
    "\n",
    "    # rieq(t)             \n",
    "    def interestRateEqn(model,t):\n",
    "        if t == 1:\n",
    "            return pe.Constraint.Skip # initial value defined by the boundary\n",
    "        else:\n",
    "            return (model.RI[t] == (1 + kwargs['prstp']) * (model.CPC[t]/model.CPC[t-1])** (kwargs['elasmu']/kwargs['tstep']) - 1)\n",
    "\n",
    "    model.interestRateEqn = pe.Constraint(model.time_periods,rule=interestRateEqn)\n",
    "\n",
    "    # cemutotpereq(t)\n",
    "    def periodUtilityEqn(model,t):\n",
    "        return (model.CEMUTOTPER[t] ==  model.PERIODU[t] * kwargs['l'][t] * kwargs['rr'][t])\n",
    "\n",
    "    model.periodUtilityEqn = pe.Constraint(model.time_periods,rule=periodUtilityEqn)\n",
    "\n",
    "    # periodueq(t)\n",
    "    def instUtilityEqn(model,t):\n",
    "        return (model.PERIODU[t] ==  ((model.C[t] * 1000 / kwargs['l'][t])**(1-kwargs['elasmu'])-1) / (1-kwargs['elasmu']) - 1)\n",
    "    \n",
    "    model.instUtilityEqn = pe.Constraint(model.time_periods,rule=instUtilityEqn)\n",
    "\n",
    "    # util \n",
    "    def utilityCalc(model):\n",
    "        return (model.UTILITY == kwargs['tstep'] * kwargs['scale1'] * pe.summation(model.CEMUTOTPER) + kwargs['scale2'])\n",
    "\n",
    "    model.utilityCalc = pe.Constraint(rule=utilityCalc)\n",
    "\n",
    "    ### objective function\n",
    "    \n",
    "    def obj_rule(model):\n",
    "        return  model.UTILITY\n",
    "                \n",
    "    model.OBJ = pe.Objective(rule=obj_rule, sense=pe.maximize)\n",
    "\n",
    "    return model"
   ]
  },
  {
   "cell_type": "markdown",
   "metadata": {},
   "source": [
    "The model can be built now."
   ]
  },
  {
   "cell_type": "code",
   "execution_count": 27,
   "metadata": {},
   "outputs": [],
   "source": [
    "dicemodel = diceModel2016(**params)"
   ]
  },
  {
   "cell_type": "code",
   "execution_count": 28,
   "metadata": {},
   "outputs": [
    {
     "data": {
      "text/plain": [
       "'Dice2016R'"
      ]
     },
     "execution_count": 28,
     "metadata": {},
     "output_type": "execute_result"
    }
   ],
   "source": [
    "dicemodel.getname()"
   ]
  },
  {
   "cell_type": "markdown",
   "metadata": {},
   "source": [
    "## Data handling"
   ]
  },
  {
   "cell_type": "code",
   "execution_count": 38,
   "metadata": {},
   "outputs": [],
   "source": [
    "# df_results = pd.DataFrame(index = sorted(params[\"l\"].keys())) # create a pandas dataframe to store the results"
   ]
  },
  {
   "cell_type": "code",
   "execution_count": 29,
   "metadata": {},
   "outputs": [],
   "source": [
    "def createColumn(variableName,variable,df):\n",
    "    \"\"\"\n",
    "    Put the result of a simulation in a pandas dataframe\n",
    "    \"\"\"\n",
    "    temp = variable.extract_values()\n",
    "    df[variableName] = 0.0\n",
    "    for key,value in temp.items() :\n",
    "        df[variableName][key] = value\n",
    "    return"
   ]
  },
  {
   "cell_type": "markdown",
   "metadata": {},
   "source": [
    "## Solving the model"
   ]
  },
  {
   "cell_type": "markdown",
   "metadata": {},
   "source": [
    "Declaration of the solver (ipopt)"
   ]
  },
  {
   "cell_type": "code",
   "execution_count": 30,
   "metadata": {},
   "outputs": [],
   "source": [
    "solver = po.SolverFactory('ipopt')"
   ]
  },
  {
   "cell_type": "markdown",
   "metadata": {},
   "source": [
    "Scenario : base = 0 /optimized = 1\n",
    "\n",
    "- In the baseline scenario, carbon price is the maximum of Hotelling rent or baseline price.\n",
    "- In the optimized scenario, ..."
   ]
  },
  {
   "cell_type": "code",
   "execution_count": 32,
   "metadata": {},
   "outputs": [],
   "source": [
    "# case ifopt = 0\n",
    "params[\"ifopt\"] = 0"
   ]
  },
  {
   "cell_type": "code",
   "execution_count": 34,
   "metadata": {},
   "outputs": [
    {
     "name": "stdout",
     "output_type": "stream",
     "text": [
      "Optimal solution value for intermediate computation : 4620.353570085999\n"
     ]
    }
   ],
   "source": [
    "# first solve (without damage function)\n",
    "\n",
    "df_results0 = pd.DataFrame(index = sorted(params[\"l\"].keys())) # create a pandas dataframe to store the results\n",
    "\n",
    "params[\"a2\"] = 0.0 # baseline run : no damage due to GHG\n",
    "        \n",
    "dicemodel0 = diceModel2016(**params) # model setup\n",
    "        \n",
    "results0 = solver.solve(dicemodel0) # solve the model without damage function\n",
    "    \n",
    "# Sanity check\n",
    "if (results0.solver.status != po.SolverStatus.ok):\n",
    "    print('Check solver not ok ?')\n",
    "if (results0.solver.termination_condition != po.TerminationCondition.optimal):  \n",
    "    print('Check solver optimality ?')\n",
    "\n",
    "#  Value of the utility function for the solution\n",
    "print('Optimal solution value for intermediate computation :', dicemodel0.OBJ())\n",
    "\n",
    "# Hotelling price\n",
    "createColumn('PHOTEL',dicemodel0.CPRICE,df_results0)\n",
    "\n",
    "params[\"a2\"] = params[\"a20\"] # restore the damage parameter"
   ]
  },
  {
   "cell_type": "code",
   "execution_count": 35,
   "metadata": {},
   "outputs": [],
   "source": [
    "\n",
    "# store the results\n",
    "createColumn('MIU',dicemodel0.MIU,df_results0)\n",
    "createColumn('FORC',dicemodel0.FORC,df_results0)\n",
    "createColumn('TATM',dicemodel0.TATM,df_results0)\n",
    "createColumn('TOCEAN',dicemodel0.TOCEAN,df_results0)\n",
    "createColumn('MAT',dicemodel0.MAT,df_results0)\n",
    "createColumn('MU',dicemodel0.MU,df_results0)\n",
    "createColumn('ML',dicemodel0.ML,df_results0)\n",
    "createColumn('E',dicemodel0.E,df_results0)\n",
    "createColumn('EIND',dicemodel0.EIND,df_results0)\n",
    "createColumn('C',dicemodel0.C,df_results0)\n",
    "createColumn('K',dicemodel0.K,df_results0)\n",
    "createColumn('CPC',dicemodel0.CPC,df_results0)\n",
    "createColumn('I',dicemodel0.I,df_results0)\n",
    "createColumn('S',dicemodel0.S,df_results0)\n",
    "createColumn('RI',dicemodel0.RI,df_results0)\n",
    "createColumn('Y',dicemodel0.Y,df_results0)\n",
    "createColumn('YGROSS',dicemodel0.YGROSS,df_results0)\n",
    "createColumn('YNET',dicemodel0.YNET,df_results0)\n",
    "createColumn('DAMAGES',dicemodel0.DAMAGES,df_results0)\n",
    "createColumn('DAMFRAC',dicemodel0.DAMFRAC,df_results0)\n",
    "createColumn('ABATECOST',dicemodel0.ABATECOST,df_results0)\n",
    "createColumn('MCABATE',dicemodel0.MCABATE,df_results0)\n",
    "createColumn('CCA',dicemodel0.CCA,df_results0)\n",
    "createColumn('CCATOT',dicemodel0.CCATOT,df_results0)\n",
    "createColumn('PERIODU',dicemodel0.PERIODU,df_results0)\n",
    "createColumn('CPRICE',dicemodel0.CPRICE,df_results0)\n",
    "createColumn('CEMUTOTPER',dicemodel0.CEMUTOTPER,df_results0)"
   ]
  },
  {
   "cell_type": "markdown",
   "metadata": {},
   "source": [
    "Without damage function"
   ]
  },
  {
   "cell_type": "code",
   "execution_count": 37,
   "metadata": {
    "scrolled": true
   },
   "outputs": [
    {
     "data": {
      "text/html": [
       "<div>\n",
       "<style scoped>\n",
       "    .dataframe tbody tr th:only-of-type {\n",
       "        vertical-align: middle;\n",
       "    }\n",
       "\n",
       "    .dataframe tbody tr th {\n",
       "        vertical-align: top;\n",
       "    }\n",
       "\n",
       "    .dataframe thead th {\n",
       "        text-align: right;\n",
       "    }\n",
       "</style>\n",
       "<table border=\"1\" class=\"dataframe\">\n",
       "  <thead>\n",
       "    <tr style=\"text-align: right;\">\n",
       "      <th></th>\n",
       "      <th>PHOTEL</th>\n",
       "      <th>MIU</th>\n",
       "      <th>FORC</th>\n",
       "      <th>TATM</th>\n",
       "      <th>TOCEAN</th>\n",
       "      <th>MAT</th>\n",
       "      <th>MU</th>\n",
       "      <th>ML</th>\n",
       "      <th>E</th>\n",
       "      <th>EIND</th>\n",
       "      <th>...</th>\n",
       "      <th>YNET</th>\n",
       "      <th>DAMAGES</th>\n",
       "      <th>DAMFRAC</th>\n",
       "      <th>ABATECOST</th>\n",
       "      <th>MCABATE</th>\n",
       "      <th>CCA</th>\n",
       "      <th>CCATOT</th>\n",
       "      <th>PERIODU</th>\n",
       "      <th>CPRICE</th>\n",
       "      <th>CEMUTOTPER</th>\n",
       "    </tr>\n",
       "  </thead>\n",
       "  <tbody>\n",
       "    <tr>\n",
       "      <th>1</th>\n",
       "      <td>0.001429</td>\n",
       "      <td>0.000323</td>\n",
       "      <td>2.463396</td>\n",
       "      <td>0.850000</td>\n",
       "      <td>0.006800</td>\n",
       "      <td>851.000000</td>\n",
       "      <td>460.000000</td>\n",
       "      <td>1740.000000</td>\n",
       "      <td>39.433857</td>\n",
       "      <td>36.833857</td>\n",
       "      <td>...</td>\n",
       "      <td>105.177422</td>\n",
       "      <td>0.0</td>\n",
       "      <td>0.0</td>\n",
       "      <td>6.540797e-09</td>\n",
       "      <td>0.001429</td>\n",
       "      <td>400.000000</td>\n",
       "      <td>500.000000</td>\n",
       "      <td>0.449794</td>\n",
       "      <td>0.001429</td>\n",
       "      <td>3329.824350</td>\n",
       "    </tr>\n",
       "    <tr>\n",
       "      <th>2</th>\n",
       "      <td>0.001828</td>\n",
       "      <td>0.000383</td>\n",
       "      <td>2.747610</td>\n",
       "      <td>1.017234</td>\n",
       "      <td>0.027880</td>\n",
       "      <td>892.823220</td>\n",
       "      <td>471.289302</td>\n",
       "      <td>1740.670698</td>\n",
       "      <td>43.122773</td>\n",
       "      <td>40.821773</td>\n",
       "      <td>...</td>\n",
       "      <td>125.650792</td>\n",
       "      <td>0.0</td>\n",
       "      <td>0.0</td>\n",
       "      <td>1.098938e-08</td>\n",
       "      <td>0.001828</td>\n",
       "      <td>450.237121</td>\n",
       "      <td>553.783220</td>\n",
       "      <td>0.491499</td>\n",
       "      <td>0.001828</td>\n",
       "      <td>3582.889782</td>\n",
       "    </tr>\n",
       "    <tr>\n",
       "      <th>3</th>\n",
       "      <td>0.002328</td>\n",
       "      <td>0.000452</td>\n",
       "      <td>3.032787</td>\n",
       "      <td>1.191877</td>\n",
       "      <td>0.052614</td>\n",
       "      <td>936.871612</td>\n",
       "      <td>485.306645</td>\n",
       "      <td>1741.419438</td>\n",
       "      <td>46.771551</td>\n",
       "      <td>44.735166</td>\n",
       "      <td>...</td>\n",
       "      <td>148.375494</td>\n",
       "      <td>0.0</td>\n",
       "      <td>0.0</td>\n",
       "      <td>1.812268e-08</td>\n",
       "      <td>0.002328</td>\n",
       "      <td>505.913298</td>\n",
       "      <td>612.597695</td>\n",
       "      <td>0.529571</td>\n",
       "      <td>0.002328</td>\n",
       "      <td>3771.400217</td>\n",
       "    </tr>\n",
       "    <tr>\n",
       "      <th>4</th>\n",
       "      <td>0.002951</td>\n",
       "      <td>0.000533</td>\n",
       "      <td>3.319394</td>\n",
       "      <td>1.373156</td>\n",
       "      <td>0.081095</td>\n",
       "      <td>983.358107</td>\n",
       "      <td>501.765372</td>\n",
       "      <td>1742.265202</td>\n",
       "      <td>50.345802</td>\n",
       "      <td>48.543601</td>\n",
       "      <td>...</td>\n",
       "      <td>173.431506</td>\n",
       "      <td>0.0</td>\n",
       "      <td>0.0</td>\n",
       "      <td>2.938258e-08</td>\n",
       "      <td>0.002951</td>\n",
       "      <td>566.926890</td>\n",
       "      <td>676.388681</td>\n",
       "      <td>0.564490</td>\n",
       "      <td>0.002951</td>\n",
       "      <td>3900.567633</td>\n",
       "    </tr>\n",
       "    <tr>\n",
       "      <th>5</th>\n",
       "      <td>0.003726</td>\n",
       "      <td>0.000626</td>\n",
       "      <td>3.607112</td>\n",
       "      <td>1.560364</td>\n",
       "      <td>0.113397</td>\n",
       "      <td>1032.366998</td>\n",
       "      <td>520.462595</td>\n",
       "      <td>1743.224939</td>\n",
       "      <td>53.815455</td>\n",
       "      <td>52.220507</td>\n",
       "      <td>...</td>\n",
       "      <td>200.892894</td>\n",
       "      <td>0.0</td>\n",
       "      <td>0.0</td>\n",
       "      <td>4.689794e-08</td>\n",
       "      <td>0.003726</td>\n",
       "      <td>633.134747</td>\n",
       "      <td>745.054532</td>\n",
       "      <td>0.596631</td>\n",
       "      <td>0.003726</td>\n",
       "      <td>3976.442455</td>\n",
       "    </tr>\n",
       "  </tbody>\n",
       "</table>\n",
       "<p>5 rows × 28 columns</p>\n",
       "</div>"
      ],
      "text/plain": [
       "     PHOTEL       MIU      FORC      TATM    TOCEAN          MAT          MU  \\\n",
       "1  0.001429  0.000323  2.463396  0.850000  0.006800   851.000000  460.000000   \n",
       "2  0.001828  0.000383  2.747610  1.017234  0.027880   892.823220  471.289302   \n",
       "3  0.002328  0.000452  3.032787  1.191877  0.052614   936.871612  485.306645   \n",
       "4  0.002951  0.000533  3.319394  1.373156  0.081095   983.358107  501.765372   \n",
       "5  0.003726  0.000626  3.607112  1.560364  0.113397  1032.366998  520.462595   \n",
       "\n",
       "            ML          E       EIND  ...        YNET  DAMAGES  DAMFRAC  \\\n",
       "1  1740.000000  39.433857  36.833857  ...  105.177422      0.0      0.0   \n",
       "2  1740.670698  43.122773  40.821773  ...  125.650792      0.0      0.0   \n",
       "3  1741.419438  46.771551  44.735166  ...  148.375494      0.0      0.0   \n",
       "4  1742.265202  50.345802  48.543601  ...  173.431506      0.0      0.0   \n",
       "5  1743.224939  53.815455  52.220507  ...  200.892894      0.0      0.0   \n",
       "\n",
       "      ABATECOST   MCABATE         CCA      CCATOT   PERIODU    CPRICE  \\\n",
       "1  6.540797e-09  0.001429  400.000000  500.000000  0.449794  0.001429   \n",
       "2  1.098938e-08  0.001828  450.237121  553.783220  0.491499  0.001828   \n",
       "3  1.812268e-08  0.002328  505.913298  612.597695  0.529571  0.002328   \n",
       "4  2.938258e-08  0.002951  566.926890  676.388681  0.564490  0.002951   \n",
       "5  4.689794e-08  0.003726  633.134747  745.054532  0.596631  0.003726   \n",
       "\n",
       "    CEMUTOTPER  \n",
       "1  3329.824350  \n",
       "2  3582.889782  \n",
       "3  3771.400217  \n",
       "4  3900.567633  \n",
       "5  3976.442455  \n",
       "\n",
       "[5 rows x 28 columns]"
      ]
     },
     "execution_count": 37,
     "metadata": {},
     "output_type": "execute_result"
    }
   ],
   "source": [
    "df_results0.head()"
   ]
  },
  {
   "cell_type": "code",
   "execution_count": 40,
   "metadata": {},
   "outputs": [
    {
     "data": {
      "image/png": "[encoded data removed]",
      "text/plain": [
       "<Figure size 432x288 with 1 Axes>"
      ]
     },
     "metadata": {
      "needs_background": "light"
     },
     "output_type": "display_data"
    }
   ],
   "source": [
    "plt.plot(df_results0[\"YNET\"],'r')\n",
    "plt.show()"
   ]
  },
  {
   "cell_type": "code",
   "execution_count": 42,
   "metadata": {},
   "outputs": [
    {
     "data": {
      "image/png": "[encoded data removed]",
      "text/plain": [
       "<Figure size 432x288 with 1 Axes>"
      ]
     },
     "metadata": {
      "needs_background": "light"
     },
     "output_type": "display_data"
    }
   ],
   "source": [
    "plt.plot(df_results0[\"TATM\"],'r')\n",
    "plt.show()"
   ]
  },
  {
   "cell_type": "code",
   "execution_count": 46,
   "metadata": {},
   "outputs": [
    {
     "data": {
      "image/png": "[encoded data removed]",
      "text/plain": [
       "<Figure size 432x288 with 1 Axes>"
      ]
     },
     "metadata": {
      "needs_background": "light"
     },
     "output_type": "display_data"
    }
   ],
   "source": [
    "plt.plot(df_results0[\"PHOTEL\"],'r')\n",
    "plt.show()"
   ]
  },
  {
   "cell_type": "code",
   "execution_count": 49,
   "metadata": {},
   "outputs": [],
   "source": [
    "# define upper bound on carbon price based on prelim computation\n",
    "def cpriceBounds(model,t):\n",
    "    if t <= params['tnopol'] : # Period before which no emissions controls base\n",
    "        return (-np.inf,max(df_results0[\"PHOTEL\"][t],params[\"cpricebase\"]))\n",
    "    else:\n",
    "        return (-np.inf,np.inf) "
   ]
  },
  {
   "cell_type": "code",
   "execution_count": 57,
   "metadata": {},
   "outputs": [
    {
     "data": {
      "text/plain": [
       "(None, None)"
      ]
     },
     "execution_count": 57,
     "metadata": {},
     "output_type": "execute_result"
    }
   ],
   "source": [
    "dicemodel0.CPRICE[10].bounds"
   ]
  },
  {
   "cell_type": "code",
   "execution_count": 51,
   "metadata": {},
   "outputs": [],
   "source": [
    "dicemodel = diceModel2016(**params)"
   ]
  },
  {
   "cell_type": "code",
   "execution_count": 59,
   "metadata": {},
   "outputs": [],
   "source": [
    "dicemodel.CPRICE.bounds = cpriceBounds"
   ]
  },
  {
   "cell_type": "code",
   "execution_count": 61,
   "metadata": {},
   "outputs": [
    {
     "data": {
      "text/plain": [
       "(None, None)"
      ]
     },
     "execution_count": 61,
     "metadata": {},
     "output_type": "execute_result"
    }
   ],
   "source": [
    "dicemodel.CPRICE[2].bounds"
   ]
  },
  {
   "cell_type": "code",
   "execution_count": null,
   "metadata": {},
   "outputs": [],
   "source": [
    "# A reprendre ici : introduction d'une borne dans le modèle pour CPRICE"
   ]
  },
  {
   "cell_type": "code",
   "execution_count": null,
   "metadata": {},
   "outputs": [],
   "source": []
  },
  {
   "cell_type": "code",
   "execution_count": 64,
   "metadata": {},
   "outputs": [],
   "source": [
    "# Optimal scenario\n",
    "params[\"ifopt\"] = 1\n",
    "df_results = pd.DataFrame(index = sorted(params[\"l\"].keys())) # create a pandas dataframe to store the results"
   ]
  },
  {
   "cell_type": "code",
   "execution_count": 65,
   "metadata": {},
   "outputs": [
    {
     "name": "stdout",
     "output_type": "stream",
     "text": [
      "Optimal solution value for utility : 4516.777544297598\n"
     ]
    }
   ],
   "source": [
    "dicemodel = diceModel2016(**params) # model setup\n",
    "    \n",
    "\n",
    "# solve the model\n",
    "results = solver.solve(dicemodel)\n",
    "\n",
    "# Sanity check\n",
    "if (results.solver.status != po.SolverStatus.ok):\n",
    "    print('Check solver not ok ?')\n",
    "if (results.solver.termination_condition != po.TerminationCondition.optimal):  \n",
    "    print('Check solver optimality ?')\n",
    "\n",
    "#  Value of the utility function for the solution\n",
    "print('Optimal solution value for utility :', dicemodel.OBJ())\n",
    "\n",
    "# store the results\n",
    "createColumn('MIU',dicemodel.MIU,df_results)\n",
    "createColumn('FORC',dicemodel.FORC,df_results)\n",
    "createColumn('TATM',dicemodel.TATM,df_results)\n",
    "createColumn('TOCEAN',dicemodel.TOCEAN,df_results)\n",
    "createColumn('MAT',dicemodel.MAT,df_results)\n",
    "createColumn('MU',dicemodel.MU,df_results)\n",
    "createColumn('ML',dicemodel.ML,df_results)\n",
    "createColumn('E',dicemodel.E,df_results)\n",
    "createColumn('EIND',dicemodel.EIND,df_results)\n",
    "createColumn('C',dicemodel.C,df_results)\n",
    "createColumn('K',dicemodel.K,df_results)\n",
    "createColumn('CPC',dicemodel.CPC,df_results)\n",
    "createColumn('I',dicemodel.I,df_results)\n",
    "createColumn('S',dicemodel.S,df_results)\n",
    "createColumn('RI',dicemodel.RI,df_results)\n",
    "createColumn('Y',dicemodel.Y,df_results)\n",
    "createColumn('YGROSS',dicemodel.YGROSS,df_results)\n",
    "createColumn('YNET',dicemodel.YNET,df_results)\n",
    "createColumn('DAMAGES',dicemodel.DAMAGES,df_results)\n",
    "createColumn('DAMFRAC',dicemodel.DAMFRAC,df_results)\n",
    "createColumn('ABATECOST',dicemodel.ABATECOST,df_results)\n",
    "createColumn('MCABATE',dicemodel.MCABATE,df_results)\n",
    "createColumn('CCA',dicemodel.CCA,df_results)\n",
    "createColumn('CCATOT',dicemodel.CCATOT,df_results)\n",
    "createColumn('PERIODU',dicemodel.PERIODU,df_results)\n",
    "createColumn('CPRICE',dicemodel.CPRICE,df_results)\n",
    "createColumn('CEMUTOTPER',dicemodel.CEMUTOTPER,df_results)"
   ]
  },
  {
   "cell_type": "code",
   "execution_count": 66,
   "metadata": {},
   "outputs": [
    {
     "data": {
      "text/html": [
       "<div>\n",
       "<style scoped>\n",
       "    .dataframe tbody tr th:only-of-type {\n",
       "        vertical-align: middle;\n",
       "    }\n",
       "\n",
       "    .dataframe tbody tr th {\n",
       "        vertical-align: top;\n",
       "    }\n",
       "\n",
       "    .dataframe thead th {\n",
       "        text-align: right;\n",
       "    }\n",
       "</style>\n",
       "<table border=\"1\" class=\"dataframe\">\n",
       "  <thead>\n",
       "    <tr style=\"text-align: right;\">\n",
       "      <th></th>\n",
       "      <th>MIU</th>\n",
       "      <th>FORC</th>\n",
       "      <th>TATM</th>\n",
       "      <th>TOCEAN</th>\n",
       "      <th>MAT</th>\n",
       "      <th>MU</th>\n",
       "      <th>ML</th>\n",
       "      <th>E</th>\n",
       "      <th>EIND</th>\n",
       "      <th>C</th>\n",
       "      <th>...</th>\n",
       "      <th>YNET</th>\n",
       "      <th>DAMAGES</th>\n",
       "      <th>DAMFRAC</th>\n",
       "      <th>ABATECOST</th>\n",
       "      <th>MCABATE</th>\n",
       "      <th>CCA</th>\n",
       "      <th>CCATOT</th>\n",
       "      <th>PERIODU</th>\n",
       "      <th>CPRICE</th>\n",
       "      <th>CEMUTOTPER</th>\n",
       "    </tr>\n",
       "  </thead>\n",
       "  <tbody>\n",
       "    <tr>\n",
       "      <th>1</th>\n",
       "      <td>0.030000</td>\n",
       "      <td>2.463396</td>\n",
       "      <td>0.850000</td>\n",
       "      <td>0.006800</td>\n",
       "      <td>851.000000</td>\n",
       "      <td>460.000000</td>\n",
       "      <td>1740.000000</td>\n",
       "      <td>38.340385</td>\n",
       "      <td>35.740385</td>\n",
       "      <td>77.636548</td>\n",
       "      <td>...</td>\n",
       "      <td>104.998084</td>\n",
       "      <td>0.179338</td>\n",
       "      <td>0.001705</td>\n",
       "      <td>0.000856</td>\n",
       "      <td>2.012596</td>\n",
       "      <td>400.000000</td>\n",
       "      <td>500.000000</td>\n",
       "      <td>0.450446</td>\n",
       "      <td>2.012596</td>\n",
       "      <td>3334.654595</td>\n",
       "    </tr>\n",
       "    <tr>\n",
       "      <th>2</th>\n",
       "      <td>0.187198</td>\n",
       "      <td>2.738731</td>\n",
       "      <td>1.016342</td>\n",
       "      <td>0.027880</td>\n",
       "      <td>891.331850</td>\n",
       "      <td>471.289302</td>\n",
       "      <td>1740.670698</td>\n",
       "      <td>35.433519</td>\n",
       "      <td>33.132519</td>\n",
       "      <td>92.861155</td>\n",
       "      <td>...</td>\n",
       "      <td>125.117190</td>\n",
       "      <td>0.305751</td>\n",
       "      <td>0.002438</td>\n",
       "      <td>0.107807</td>\n",
       "      <td>36.732495</td>\n",
       "      <td>448.745751</td>\n",
       "      <td>552.291850</td>\n",
       "      <td>0.491032</td>\n",
       "      <td>36.732495</td>\n",
       "      <td>3579.481519</td>\n",
       "    </tr>\n",
       "    <tr>\n",
       "      <th>3</th>\n",
       "      <td>0.211515</td>\n",
       "      <td>2.965471</td>\n",
       "      <td>1.184334</td>\n",
       "      <td>0.052592</td>\n",
       "      <td>925.071953</td>\n",
       "      <td>485.127681</td>\n",
       "      <td>1741.419438</td>\n",
       "      <td>37.209836</td>\n",
       "      <td>35.173451</td>\n",
       "      <td>109.777637</td>\n",
       "      <td>...</td>\n",
       "      <td>147.400240</td>\n",
       "      <td>0.489552</td>\n",
       "      <td>0.003310</td>\n",
       "      <td>0.158018</td>\n",
       "      <td>43.542929</td>\n",
       "      <td>493.934675</td>\n",
       "      <td>600.619072</td>\n",
       "      <td>0.528295</td>\n",
       "      <td>43.542929</td>\n",
       "      <td>3762.314769</td>\n",
       "    </tr>\n",
       "    <tr>\n",
       "      <th>4</th>\n",
       "      <td>0.237749</td>\n",
       "      <td>3.191155</td>\n",
       "      <td>1.353691</td>\n",
       "      <td>0.080885</td>\n",
       "      <td>959.898257</td>\n",
       "      <td>500.206778</td>\n",
       "      <td>1742.263950</td>\n",
       "      <td>38.663639</td>\n",
       "      <td>36.861438</td>\n",
       "      <td>128.413359</td>\n",
       "      <td>...</td>\n",
       "      <td>171.932009</td>\n",
       "      <td>0.746776</td>\n",
       "      <td>0.004325</td>\n",
       "      <td>0.226354</td>\n",
       "      <td>51.187930</td>\n",
       "      <td>541.907194</td>\n",
       "      <td>651.368985</td>\n",
       "      <td>0.562561</td>\n",
       "      <td>51.187930</td>\n",
       "      <td>3887.239315</td>\n",
       "    </tr>\n",
       "    <tr>\n",
       "      <th>5</th>\n",
       "      <td>0.265957</td>\n",
       "      <td>3.413895</td>\n",
       "      <td>1.523974</td>\n",
       "      <td>0.112705</td>\n",
       "      <td>995.483726</td>\n",
       "      <td>516.405212</td>\n",
       "      <td>1743.212778</td>\n",
       "      <td>39.751774</td>\n",
       "      <td>38.156826</td>\n",
       "      <td>148.790260</td>\n",
       "      <td>...</td>\n",
       "      <td>198.753751</td>\n",
       "      <td>1.095392</td>\n",
       "      <td>0.005481</td>\n",
       "      <td>0.317519</td>\n",
       "      <td>59.714533</td>\n",
       "      <td>592.181932</td>\n",
       "      <td>704.101716</td>\n",
       "      <td>0.594123</td>\n",
       "      <td>59.714533</td>\n",
       "      <td>3959.726535</td>\n",
       "    </tr>\n",
       "  </tbody>\n",
       "</table>\n",
       "<p>5 rows × 27 columns</p>\n",
       "</div>"
      ],
      "text/plain": [
       "        MIU      FORC      TATM    TOCEAN         MAT          MU  \\\n",
       "1  0.030000  2.463396  0.850000  0.006800  851.000000  460.000000   \n",
       "2  0.187198  2.738731  1.016342  0.027880  891.331850  471.289302   \n",
       "3  0.211515  2.965471  1.184334  0.052592  925.071953  485.127681   \n",
       "4  0.237749  3.191155  1.353691  0.080885  959.898257  500.206778   \n",
       "5  0.265957  3.413895  1.523974  0.112705  995.483726  516.405212   \n",
       "\n",
       "            ML          E       EIND           C  ...        YNET   DAMAGES  \\\n",
       "1  1740.000000  38.340385  35.740385   77.636548  ...  104.998084  0.179338   \n",
       "2  1740.670698  35.433519  33.132519   92.861155  ...  125.117190  0.305751   \n",
       "3  1741.419438  37.209836  35.173451  109.777637  ...  147.400240  0.489552   \n",
       "4  1742.263950  38.663639  36.861438  128.413359  ...  171.932009  0.746776   \n",
       "5  1743.212778  39.751774  38.156826  148.790260  ...  198.753751  1.095392   \n",
       "\n",
       "    DAMFRAC  ABATECOST    MCABATE         CCA      CCATOT   PERIODU  \\\n",
       "1  0.001705   0.000856   2.012596  400.000000  500.000000  0.450446   \n",
       "2  0.002438   0.107807  36.732495  448.745751  552.291850  0.491032   \n",
       "3  0.003310   0.158018  43.542929  493.934675  600.619072  0.528295   \n",
       "4  0.004325   0.226354  51.187930  541.907194  651.368985  0.562561   \n",
       "5  0.005481   0.317519  59.714533  592.181932  704.101716  0.594123   \n",
       "\n",
       "      CPRICE   CEMUTOTPER  \n",
       "1   2.012596  3334.654595  \n",
       "2  36.732495  3579.481519  \n",
       "3  43.542929  3762.314769  \n",
       "4  51.187930  3887.239315  \n",
       "5  59.714533  3959.726535  \n",
       "\n",
       "[5 rows x 27 columns]"
      ]
     },
     "execution_count": 66,
     "metadata": {},
     "output_type": "execute_result"
    }
   ],
   "source": [
    "df_results.head()"
   ]
  },
  {
   "cell_type": "code",
   "execution_count": 67,
   "metadata": {},
   "outputs": [
    {
     "data": {
      "image/png": "[encoded data removed]",
      "text/plain": [
       "<Figure size 432x288 with 1 Axes>"
      ]
     },
     "metadata": {
      "needs_background": "light"
     },
     "output_type": "display_data"
    }
   ],
   "source": [
    "plt.plot(df_results[\"YNET\"])\n",
    "plt.show()"
   ]
  },
  {
   "cell_type": "code",
   "execution_count": 69,
   "metadata": {},
   "outputs": [
    {
     "data": {
      "image/png": "[encoded data removed]",
      "text/plain": [
       "<Figure size 432x288 with 1 Axes>"
      ]
     },
     "metadata": {
      "needs_background": "light"
     },
     "output_type": "display_data"
    }
   ],
   "source": [
    "plt.plot(df_results[\"TATM\"])\n",
    "plt.show()"
   ]
  },
  {
   "cell_type": "code",
   "execution_count": 70,
   "metadata": {},
   "outputs": [
    {
     "data": {
      "image/png": "[encoded data removed]",
      "text/plain": [
       "<Figure size 432x288 with 1 Axes>"
      ]
     },
     "metadata": {
      "needs_background": "light"
     },
     "output_type": "display_data"
    }
   ],
   "source": [
    "plt.plot(df_results[\"TATM\"])\n",
    "plt.plot(df_results0[\"TATM\"],'r')\n",
    "plt.show()"
   ]
  },
  {
   "cell_type": "code",
   "execution_count": 71,
   "metadata": {},
   "outputs": [
    {
     "data": {
      "image/png": "[encoded data removed]",
      "text/plain": [
       "<Figure size 432x288 with 1 Axes>"
      ]
     },
     "metadata": {
      "needs_background": "light"
     },
     "output_type": "display_data"
    }
   ],
   "source": [
    "plt.plot(df_results[\"MCABATE\"])\n",
    "plt.plot(df_results0[\"MCABATE\"],'r')\n",
    "plt.show()"
   ]
  },
  {
   "cell_type": "code",
   "execution_count": null,
   "metadata": {},
   "outputs": [],
   "source": []
  },
  {
   "cell_type": "code",
   "execution_count": null,
   "metadata": {},
   "outputs": [],
   "source": [
    "# A faire : cout social du carbone"
   ]
  },
  {
   "cell_type": "code",
   "execution_count": null,
   "metadata": {},
   "outputs": [],
   "source": []
  },
  {
   "cell_type": "code",
   "execution_count": null,
   "metadata": {},
   "outputs": [],
   "source": []
  },
  {
   "cell_type": "code",
   "execution_count": null,
   "metadata": {},
   "outputs": [],
   "source": []
  },
  {
   "cell_type": "code",
   "execution_count": null,
   "metadata": {},
   "outputs": [],
   "source": []
  },
  {
   "cell_type": "code",
   "execution_count": 32,
   "metadata": {},
   "outputs": [],
   "source": [
    "def solveModel(params,df_results,solver,ifopt=0) :\n",
    "    \"\"\"\n",
    "    Solve the Dice model with optional optimization (ifopt = 1) \n",
    "    \n",
    "    params : parameters for the model\n",
    "    df_results : pandas dataframe to store the result\n",
    "    solver : instance of a solver (e.g. ipopt)\n",
    "    ifopt : optimization option\n",
    "    \n",
    "    \"\"\"\n",
    "    \n",
    "    params[\"ifopt\"] = ifopt\n",
    "    \n",
    "    if (ifopt == 0) : # baseline case\n",
    "    \n",
    "        params[\"a2\"] = 0.0 # baseline run : no damage due to GHG\n",
    "        \n",
    "        dicemodel0 = diceModel2016(**params) # model setup\n",
    "        \n",
    "        results0 = solver.solve(dicemodel0) # solve the model without damage function\n",
    "    \n",
    "        # Sanity check\n",
    "        if (results0.solver.status != po.SolverStatus.ok):\n",
    "            print('Check solver not ok ?')\n",
    "        if (results0.solver.termination_condition != po.TerminationCondition.optimal):  \n",
    "            print('Check solver optimality ?')\n",
    "    \n",
    "        #  Value of the utility function for the solution\n",
    "        print('Optimal solution value for intermediate computation :', dicemodel0.OBJ())\n",
    "\n",
    "        # Hotelling price\n",
    "        createColumn('PHOTEL',dicemodel0.CPRICE,df_results)\n",
    "    \n",
    "        params[\"a2\"] = params[\"a20\"] # restore the damage parameter\n",
    "        \n",
    "        # define upper bound on carbon price based on prelim computation\n",
    "        def cpriceBounds(model,t):\n",
    "            if t <= kwargs['tnopol'] : # Period before which no emissions controls base\n",
    "                return (-np.inf,max(df_results[\"PHOTEL\"][t],params[\"cpricebase\"]))\n",
    "            else:\n",
    "                return (-np.inf,np.inf) \n",
    "\n",
    "    else :\n",
    "        # no bounds on carbon price\n",
    "        def cpriceBounds(model,t):\n",
    "            return (-np.inf,np.inf) \n",
    "\n",
    "    \n",
    "    # main solving\n",
    "    \n",
    "    dicemodel = diceModel2016(**params) # model setup\n",
    "    \n",
    "    dicemodel.CPRICE.bounds = cpriceBounds  \n",
    "    \n",
    "    # solve the model\n",
    "    results = solver.solve(dicemodel)\n",
    "        \n",
    "    # Sanity check\n",
    "    if (results.solver.status != po.SolverStatus.ok):\n",
    "        print('Check solver not ok ?')\n",
    "    if (results.solver.termination_condition != po.TerminationCondition.optimal):  \n",
    "        print('Check solver optimality ?')\n",
    "\n",
    "    #  Value of the utility function for the solution\n",
    "    print('Optimal solution value for utility :', dicemodel.OBJ())\n",
    "        \n",
    "    # store the results\n",
    "    createColumn('MIU',dicemodel.MIU,df_results)\n",
    "    createColumn('FORC',dicemodel.FORC,df_results)\n",
    "    createColumn('TATM',dicemodel.TATM,df_results)\n",
    "    createColumn('TOCEAN',dicemodel.TOCEAN,df_results)\n",
    "    createColumn('MAT',dicemodel.MAT,df_results)\n",
    "    createColumn('MU',dicemodel.MU,df_results)\n",
    "    createColumn('ML',dicemodel.ML,df_results)\n",
    "    createColumn('E',dicemodel.E,df_results)\n",
    "    createColumn('EIND',dicemodel.EIND,df_results)\n",
    "    createColumn('C',dicemodel.C,df_results)\n",
    "    createColumn('K',dicemodel.K,df_results)\n",
    "    createColumn('CPC',dicemodel.CPC,df_results)\n",
    "    createColumn('I',dicemodel.I,df_results)\n",
    "    createColumn('S',dicemodel.S,df_results)\n",
    "    createColumn('RI',dicemodel.RI,df_results)\n",
    "    createColumn('Y',dicemodel.Y,df_results)\n",
    "    createColumn('YGROSS',dicemodel.YGROSS,df_results)\n",
    "    createColumn('YNET',dicemodel.YNET,df_results)\n",
    "    createColumn('DAMAGES',dicemodel.DAMAGES,df_results)\n",
    "    createColumn('DAMFRAC',dicemodel.DAMFRAC,df_results)\n",
    "    createColumn('ABATECOST',dicemodel.ABATECOST,df_results)\n",
    "    createColumn('MCABATE',dicemodel.MCABATE,df_results)\n",
    "    createColumn('CCA',dicemodel.CCA,df_results)\n",
    "    createColumn('CCATOT',dicemodel.CCATOT,df_results)\n",
    "    createColumn('PERIODU',dicemodel.PERIODU,df_results)\n",
    "    createColumn('CPRICE',dicemodel.CPRICE,df_results)\n",
    "    createColumn('CEMUTOTPER',dicemodel.CEMUTOTPER,df_results)\n",
    "    \n",
    "    return results\n",
    "    "
   ]
  },
  {
   "cell_type": "code",
   "execution_count": 33,
   "metadata": {},
   "outputs": [
    {
     "name": "stdout",
     "output_type": "stream",
     "text": [
      "Optimal solution value for utility : 4516.777544297598\n"
     ]
    },
    {
     "data": {
      "text/plain": [
       "{'Problem': [{'Lower bound': -inf, 'Upper bound': inf, 'Number of objectives': 1, 'Number of constraints': 2493, 'Number of variables': 2700, 'Sense': 'unknown'}], 'Solver': [{'Status': 'ok', 'Message': 'Ipopt 3.11.1\\\\x3a Optimal Solution Found', 'Termination condition': 'optimal', 'Id': 0, 'Error rc': 0, 'Time': 15.940000057220459}], 'Solution': [OrderedDict([('number of solutions', 0), ('number of solutions displayed', 0)])]}"
      ]
     },
     "execution_count": 33,
     "metadata": {},
     "output_type": "execute_result"
    }
   ],
   "source": [
    "solveModel(params,df_results,solver,ifopt=1)"
   ]
  },
  {
   "cell_type": "code",
   "execution_count": 40,
   "metadata": {},
   "outputs": [
    {
     "name": "stdout",
     "output_type": "stream",
     "text": [
      "Optimal solution value for intermediate computation : 4620.353570085999\n",
      "Optimal solution value for utility : 4517.185979283772\n"
     ]
    },
    {
     "data": {
      "text/plain": [
       "{'Problem': [{'Lower bound': -inf, 'Upper bound': inf, 'Number of objectives': 1, 'Number of constraints': 2493, 'Number of variables': 2700, 'Sense': 'unknown'}], 'Solver': [{'Status': 'ok', 'Message': 'Ipopt 3.11.1\\\\x3a Optimal Solution Found', 'Termination condition': 'optimal', 'Id': 0, 'Error rc': 0, 'Time': 4.572000026702881}], 'Solution': [OrderedDict([('number of solutions', 0), ('number of solutions displayed', 0)])]}"
      ]
     },
     "execution_count": 40,
     "metadata": {},
     "output_type": "execute_result"
    }
   ],
   "source": [
    "solveModel(params,df_results,solver,ifopt=0)"
   ]
  },
  {
   "cell_type": "code",
   "execution_count": null,
   "metadata": {},
   "outputs": [],
   "source": []
  },
  {
   "cell_type": "code",
   "execution_count": 72,
   "metadata": {},
   "outputs": [],
   "source": [
    "# A faire : implémentation de la version R2"
   ]
  }
 ],
 "metadata": {
  "kernelspec": {
   "display_name": "Python 3",
   "language": "python",
   "name": "python3"
  },
  "language_info": {
   "codemirror_mode": {
    "name": "ipython",
    "version": 3
   },
   "file_extension": ".py",
   "mimetype": "text/x-python",
   "name": "python",
   "nbconvert_exporter": "python",
   "pygments_lexer": "ipython3",
   "version": "3.7.3"
  }
 },
 "nbformat": 4,
 "nbformat_minor": 2
}
